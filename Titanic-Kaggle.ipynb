{
 "cells": [
  {
   "cell_type": "markdown",
   "metadata": {},
   "source": [
    "# 工作流程\n",
    "1. 问题定义\n",
    "2. 获取训练数据和测试数据\n",
    "3. 清洗数据\n",
    "4. 分析、识别、探索数据\n",
    "5. 建立模型、作出预测、求解问题\n",
    "6. 数据可视化，作报告，给出问题求解步骤\n",
    "7. 提交结果\n",
    "\n",
    "工作流程仅仅是给出了大致的流程，并不一定要完全依照这个流程。\n",
    "\n",
    "# 问题定义\n",
    "Kaggle在competition description给出了问题的描述,大致就是Titanic上的人是否存活，与性别，年龄，阶级，经济, 家庭关系等有一定的关系。通过提供训练集和测试集，我们要从中分析出一个人是否存活与什么因素有关系,从而作出预测。\n",
    "\n",
    "# 上述工作流程中要达到的目标\n",
    "\n",
    "1. 给一堆样本，根据某种特征对样本进行分类, 还要分析出不同的类别与求解目标有什么关联。\n",
    "2. 分析哪些特征对求解目标的影响最大。分析不同特征之间有何关联。(备注：特征包括数值特征和类别特征)\n"
   ]
  },
  {
   "cell_type": "code",
   "execution_count": null,
   "metadata": {
    "collapsed": true
   },
   "outputs": [],
   "source": []
  }
 ],
 "metadata": {
  "kernelspec": {
   "display_name": "Python 3",
   "language": "python",
   "name": "python3"
  },
  "language_info": {
   "codemirror_mode": {
    "name": "ipython",
    "version": 3
   },
   "file_extension": ".py",
   "mimetype": "text/x-python",
   "name": "python",
   "nbconvert_exporter": "python",
   "pygments_lexer": "ipython3",
   "version": "3.5.4"
  }
 },
 "nbformat": 4,
 "nbformat_minor": 2
}
